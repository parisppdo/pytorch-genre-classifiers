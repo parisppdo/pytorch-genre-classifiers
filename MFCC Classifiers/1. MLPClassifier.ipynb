{
 "cells": [
  {
   "metadata": {},
   "cell_type": "markdown",
   "source": "# Music Genre Classification using multi-level perceptron (MLP) and Mel-frequency coefficients (MFCCs)",
   "id": "255c5f6f7a9924c9"
  },
  {
   "metadata": {},
   "cell_type": "markdown",
   "source": [
    "## 0. Importing libraries, setting up device agnostic code\n",
    "\n",
    "We start by importing the main needed libraries to run the script. Then we check the GPU properties and set up device agnostic code. In this manner, if a GPU is available, it will be used. Also we set a random seed so that a fixed seed will maintain consistency in experimental results. This will also make it easier to compare different approaches."
   ],
   "id": "86fc36aa58d17b3b"
  },
  {
   "cell_type": "code",
   "id": "82361e1d-71c8-4498-9116-54985097320d",
   "metadata": {
    "ExecuteTime": {
     "end_time": "2025-10-27T10:22:03.026627Z",
     "start_time": "2025-10-27T10:21:55.815727Z"
    }
   },
   "source": [
    "import json\n",
    "import numpy as np\n",
    "from sklearn.model_selection import train_test_split\n",
    "import torch\n",
    "import torchaudio\n",
    "import torch.nn as nn\n",
    "import matplotlib.pyplot as plt\n",
    "\n",
    "print(torch.__version__)\n",
    "print(torchaudio.__version__)"
   ],
   "outputs": [
    {
     "name": "stdout",
     "output_type": "stream",
     "text": [
      "2.7.0+cu118\n",
      "2.7.0+cu118\n"
     ]
    }
   ],
   "execution_count": 1
  },
  {
   "metadata": {
    "ExecuteTime": {
     "end_time": "2025-10-27T10:22:03.094074Z",
     "start_time": "2025-10-27T10:22:03.083637Z"
    }
   },
   "cell_type": "code",
   "source": [
    "# Set random seeds\n",
    "RANDOM_SEED = 42\n",
    "\n",
    "torch.manual_seed(RANDOM_SEED)\n",
    "np.random.seed(RANDOM_SEED)"
   ],
   "id": "72bf789300705a20",
   "outputs": [],
   "execution_count": 2
  },
  {
   "metadata": {
    "ExecuteTime": {
     "end_time": "2025-10-27T10:22:04.042426Z",
     "start_time": "2025-10-27T10:22:03.123087Z"
    }
   },
   "cell_type": "code",
   "source": "!nvidia-smi",
   "id": "406c856d1b9bcbfd",
   "outputs": [
    {
     "name": "stdout",
     "output_type": "stream",
     "text": [
      "Mon Oct 27 12:22:03 2025       \n",
      "+-----------------------------------------------------------------------------------------+\n",
      "| NVIDIA-SMI 581.57                 Driver Version: 581.57         CUDA Version: 13.0     |\n",
      "+-----------------------------------------+------------------------+----------------------+\n",
      "| GPU  Name                  Driver-Model | Bus-Id          Disp.A | Volatile Uncorr. ECC |\n",
      "| Fan  Temp   Perf          Pwr:Usage/Cap |           Memory-Usage | GPU-Util  Compute M. |\n",
      "|                                         |                        |               MIG M. |\n",
      "|=========================================+========================+======================|\n",
      "|   0  NVIDIA GeForce MX150         WDDM  |   00000000:02:00.0 Off |                  N/A |\n",
      "| N/A   56C    P0            N/A  / 5001W |       0MiB /   2048MiB |      1%      Default |\n",
      "|                                         |                        |                  N/A |\n",
      "+-----------------------------------------+------------------------+----------------------+\n",
      "\n",
      "+-----------------------------------------------------------------------------------------+\n",
      "| Processes:                                                                              |\n",
      "|  GPU   GI   CI              PID   Type   Process name                        GPU Memory |\n",
      "|        ID   ID                                                               Usage      |\n",
      "|=========================================================================================|\n",
      "|  No running processes found                                                             |\n",
      "+-----------------------------------------------------------------------------------------+\n"
     ]
    }
   ],
   "execution_count": 3
  },
  {
   "cell_type": "code",
   "id": "6ba9c059-1f2f-477c-a150-03cddf67c9ef",
   "metadata": {
    "ExecuteTime": {
     "end_time": "2025-10-27T10:22:04.337817Z",
     "start_time": "2025-10-27T10:22:04.211813Z"
    }
   },
   "source": [
    "# Create device agnostic code\n",
    "device = \"cuda\" if torch.cuda.is_available() else \"cpu\"\n",
    "device"
   ],
   "outputs": [
    {
     "data": {
      "text/plain": [
       "'cuda'"
      ]
     },
     "execution_count": 4,
     "metadata": {},
     "output_type": "execute_result"
    }
   ],
   "execution_count": 4
  },
  {
   "metadata": {},
   "cell_type": "markdown",
   "source": [
    "## 1. Loading data\n",
    "\n",
    "We load the data from the respective `.json` file in the current directory. Data is loaded as numpy arrays. Those arrays are used to create PyTorch tensors."
   ],
   "id": "c8230b453d206d45"
  },
  {
   "cell_type": "code",
   "id": "99995205-673f-49b0-8f51-5cb6e9c4daf6",
   "metadata": {
    "ExecuteTime": {
     "end_time": "2025-10-27T10:22:04.380248Z",
     "start_time": "2025-10-27T10:22:04.374864Z"
    }
   },
   "source": [
    "# Create method to load mfcc data from json file\n",
    "DATASET_PATH = \"data_full.json\"\n",
    "\n",
    "def load_data(dataset_path):\n",
    "    with open(dataset_path, 'r') as fp:\n",
    "        data = json.load(fp)\n",
    "\n",
    "    # Convert\n",
    "    inputs = np.array(data['mfcc'])\n",
    "    targets = np.array(data['labels'])\n",
    "\n",
    "    return inputs, targets"
   ],
   "outputs": [],
   "execution_count": 5
  },
  {
   "cell_type": "code",
   "id": "2e08eef4-c254-413d-ab57-85d3177a0c47",
   "metadata": {
    "ExecuteTime": {
     "end_time": "2025-10-27T10:22:22.122448Z",
     "start_time": "2025-10-27T10:22:04.396257Z"
    }
   },
   "source": [
    "# Load data and see the shape. 130 time frames and 13 MFCC coefficients\n",
    "inputs, targets = load_data(DATASET_PATH)\n",
    "inputs.shape, targets.shape"
   ],
   "outputs": [
    {
     "data": {
      "text/plain": [
       "((9996, 130, 13), (9996,))"
      ]
     },
     "execution_count": 6,
     "metadata": {},
     "output_type": "execute_result"
    }
   ],
   "execution_count": 6
  },
  {
   "metadata": {
    "ExecuteTime": {
     "end_time": "2025-10-27T10:22:22.233658Z",
     "start_time": "2025-10-27T10:22:22.186849Z"
    }
   },
   "cell_type": "code",
   "source": [
    "# Turn data into tensors\n",
    "inputs = torch.from_numpy(inputs).float() # weight calculations expect float\n",
    "targets = torch.from_numpy(targets).long() # CrossEntropyLoss expects long\n",
    "inputs.shape, targets.shape"
   ],
   "id": "e79df9893a0290db",
   "outputs": [
    {
     "data": {
      "text/plain": [
       "(torch.Size([9996, 130, 13]), torch.Size([9996]))"
      ]
     },
     "execution_count": 7,
     "metadata": {},
     "output_type": "execute_result"
    }
   ],
   "execution_count": 7
  },
  {
   "metadata": {},
   "cell_type": "markdown",
   "source": [
    "## 2. Data visualization\n",
    "\n",
    "For better perception of the subject, we implement some visualization of the data. We use matplotlib libraries to visualize an mfcc representation of the first example. The data has to be turned into numpy arrays in order to be processed by matplotlib.\n",
    "In the picture, we can distinguish the 13 coefficients in the vertical axis as parallel lines of the same thickness.\n"
   ],
   "id": "f95fccf00e07d4dd"
  },
  {
   "metadata": {
    "ExecuteTime": {
     "end_time": "2025-10-27T10:22:22.687673Z",
     "start_time": "2025-10-27T10:22:22.277674Z"
    }
   },
   "cell_type": "code",
   "source": [
    "# Visualise data\n",
    "np.random.seed(RANDOM_SEED)\n",
    "random_example_index = np.random.randint(len(inputs))\n",
    "mfcc_example = inputs[random_example_index].numpy()\n",
    "plt.imshow(mfcc_example.T, cmap='hot', aspect='auto', origin='lower') # .T is used because mfcc tensor is transposed in preprocess.py in line 70\n",
    "plt.colorbar()\n",
    "plt.title(\"MFCC Example (from tensor)\")\n",
    "plt.show()"
   ],
   "id": "d6fe3ced88348cf9",
   "outputs": [
    {
     "data": {
      "text/plain": [
       "<Figure size 640x480 with 2 Axes>"
      ],
      "image/png": "[encoded data removed]"
     },
     "metadata": {},
     "output_type": "display_data",
     "jetTransient": {
      "display_id": null
     }
    }
   ],
   "execution_count": 8
  },
  {
   "metadata": {},
   "cell_type": "markdown",
   "source": [
    "## 3. Create DataSets and DataLoaders\n",
    "\n",
    "In order to use the data in our model, we have to organize it into PyTorch DataLoaders. First we use the `train_test_split` method that we imported from sklearn, in order to create train and test datasets. We divide our initial data into 70% for training and 30% for testing.\n",
    "We use a batch size of 32 for the DataLoaders."
   ],
   "id": "c2983c2dc0e55605"
  },
  {
   "cell_type": "code",
   "id": "72a5fcee-8347-43bd-911e-039a76a492fd",
   "metadata": {
    "ExecuteTime": {
     "end_time": "2025-10-27T10:22:22.761698Z",
     "start_time": "2025-10-27T10:22:22.725210Z"
    }
   },
   "source": [
    "# Split the data into train and test sets\n",
    "inputs_train, inputs_test, targets_train, targets_test = train_test_split(inputs,\n",
    "                                                                          targets,\n",
    "                                                                          test_size=0.3,\n",
    "                                                                          random_state=RANDOM_SEED)\n",
    "print(f\"Train set: {len(inputs_train)} samples, {len(targets_train)} labels\")\n",
    "print(f\"Test set: {len(inputs_test)} samples, {len(targets_test)} labels\")"
   ],
   "outputs": [
    {
     "name": "stdout",
     "output_type": "stream",
     "text": [
      "Train set: 6997 samples, 6997 labels\n",
      "Test set: 2999 samples, 2999 labels\n"
     ]
    }
   ],
   "execution_count": 9
  },
  {
   "metadata": {
    "ExecuteTime": {
     "end_time": "2025-10-27T10:22:22.835711Z",
     "start_time": "2025-10-27T10:22:22.814747Z"
    }
   },
   "cell_type": "code",
   "source": [
    "# Create train/test datasets and dataloaders\n",
    "from torch.utils.data import TensorDataset, DataLoader\n",
    "import os\n",
    "\n",
    "BATCH_SIZE=32\n",
    "NUM_WORKERS = os.cpu_count()\n",
    "torch.manual_seed(RANDOM_SEED)\n",
    "\n",
    "train_dataset = TensorDataset(inputs_train, targets_train)\n",
    "test_dataset = TensorDataset(inputs_test, targets_test)\n",
    "\n",
    "train_dataloader = DataLoader(train_dataset,\n",
    "                            batch_size=BATCH_SIZE,\n",
    "                            shuffle=True,\n",
    "                            num_workers=NUM_WORKERS) # this might slow down training process in windows or with small datasets\n",
    "test_dataloader = DataLoader(test_dataset,\n",
    "                            batch_size=BATCH_SIZE,\n",
    "                            num_workers=NUM_WORKERS)# this might slow down training process in windows or with small datasets\n",
    "\n",
    "print(f\"Dataloaders: {train_dataloader, test_dataloader}\")\n",
    "print(f\"Length of train dataloader: {len(train_dataloader)} batches of {BATCH_SIZE}\")\n",
    "print(f\"Length of test dataloader: {len(test_dataloader)} batches of {BATCH_SIZE}\")"
   ],
   "id": "44e41f7820d38a82",
   "outputs": [
    {
     "name": "stdout",
     "output_type": "stream",
     "text": [
      "Dataloaders: (<torch.utils.data.dataloader.DataLoader object at 0x00000236D8A38D10>, <torch.utils.data.dataloader.DataLoader object at 0x00000236A20FA010>)\n",
      "Length of train dataloader: 219 batches of 32\n",
      "Length of test dataloader: 94 batches of 32\n"
     ]
    }
   ],
   "execution_count": 10
  },
  {
   "metadata": {},
   "cell_type": "markdown",
   "source": [
    "## 4. Building a basic MLP model\n",
    "\n",
    "The architecture of the model is based on a basic multi layer neural network. It consists of `nn.Linear()` layers and we use the `ReLu()` activation for each. First, we use an `nn.flatten()` layer because such architectures need to have vectors as in features. Those vectors have initially the tensor dimensions compressed. So in our case we input the `num_features` where `num_features = input_shape[0] * input_shape[1]`. Those two values will actually be the _time_frames * mfcc_coefficients_ which is actually 130 * 13 = 1690.\n",
    "\n",
    "This model will output logits. We can apply an `nn.Softmax()` function to those logits in order to get probabilities. However it is good practise to do this later. Furthermore we are going to use `nn.CrossEntropyLoss` later and this method takes logits as arguments.\n",
    "\n",
    "**Important**: Our model expects a fixed input shape of (130, 13)\n",
    "\n",
    "Futhermore, we use `summary()` from the torchinfo library to have a detailed perspective of the model."
   ],
   "id": "af4a2bb708e6664b"
  },
  {
   "metadata": {
    "ExecuteTime": {
     "end_time": "2025-10-27T10:22:23.314964Z",
     "start_time": "2025-10-27T10:22:22.896235Z"
    }
   },
   "cell_type": "code",
   "source": [
    "# Build the network architecture\n",
    "NUM_CLASSES = 10\n",
    "INPUT_SHAPE = (inputs.shape[1], inputs.shape[2]) # INPUT_SHAPE = (130, 13)\n",
    "\n",
    "class MLPClassifierV0(nn.Module):\n",
    "    def __init__(self, input_shape, num_classes=10):\n",
    "        super().__init__()\n",
    "\n",
    "        num_features = input_shape[0] * input_shape[1]\n",
    "\n",
    "        self.flatten = nn.Flatten()\n",
    "        self.layer_1 = nn.Linear(num_features, 512)\n",
    "        self.layer_2 = nn.Linear(512, 256)\n",
    "        self.layer_3 = nn.Linear(256, 64)\n",
    "        self.output = nn.Linear(64, num_classes)\n",
    "        self.relu = nn.ReLU()\n",
    "\n",
    "    def forward(self, x):\n",
    "        x = self.flatten(x)\n",
    "        x = self.layer_1(x)\n",
    "        x = self.relu(x)\n",
    "        x = self.layer_2(x)\n",
    "        x = self.relu(x)\n",
    "        x = self.layer_3(x)\n",
    "        x = self.relu(x)\n",
    "        x = self.output(x)\n",
    "        return x\n",
    "\n",
    "# Create a model and put it to device\n",
    "torch.manual_seed(RANDOM_SEED)\n",
    "modelMPL_0 = MLPClassifierV0(input_shape=INPUT_SHAPE,\n",
    "                             num_classes=NUM_CLASSES).to(device)\n",
    "print(modelMPL_0)\n",
    "print(next(modelMPL_0.parameters()).device)"
   ],
   "id": "656233d080ef96f2",
   "outputs": [
    {
     "name": "stdout",
     "output_type": "stream",
     "text": [
      "MLPClassifierV0(\n",
      "  (flatten): Flatten(start_dim=1, end_dim=-1)\n",
      "  (layer_1): Linear(in_features=1690, out_features=512, bias=True)\n",
      "  (layer_2): Linear(in_features=512, out_features=256, bias=True)\n",
      "  (layer_3): Linear(in_features=256, out_features=64, bias=True)\n",
      "  (output): Linear(in_features=64, out_features=10, bias=True)\n",
      "  (relu): ReLU()\n",
      ")\n",
      "cuda:0\n"
     ]
    }
   ],
   "execution_count": 11
  },
  {
   "metadata": {
    "ExecuteTime": {
     "end_time": "2025-10-27T10:22:23.690915Z",
     "start_time": "2025-10-27T10:22:23.357976Z"
    }
   },
   "cell_type": "code",
   "source": [
    "# Perform a single forward pass on the data (we'll need to put it to the target device for it to work)\n",
    "logits = modelMPL_0(inputs_train.to(device))\n",
    "probs = torch.softmax(logits, dim=1)\n",
    "print(logits[:5])\n",
    "print(probs[:5])"
   ],
   "id": "d0e140a8b02b2c08",
   "outputs": [
    {
     "name": "stdout",
     "output_type": "stream",
     "text": [
      "tensor([[ 2.4863,  1.6628, -1.1480,  2.9774,  0.0202, -2.2543, -1.7566, -7.3004,\n",
      "          0.2930, -2.3722],\n",
      "        [ 2.0879,  0.8801,  0.0691,  1.5468, -1.5241,  0.6903, -2.2699, -4.2303,\n",
      "         -0.5687, -2.9337],\n",
      "        [ 2.7794,  0.2180, -0.3529,  1.0206, -0.8012, -1.0635, -1.9773, -6.0350,\n",
      "         -1.3026, -2.8230],\n",
      "        [ 0.7410, -0.3214, -1.7579,  3.0699, -1.9245, -2.2392,  1.8314, -4.8512,\n",
      "          1.0573, -1.3739],\n",
      "        [ 3.8262,  1.4914,  0.2304,  0.8988, -0.8988, -0.9559, -2.1499, -7.9174,\n",
      "         -2.1712, -2.2625]], device='cuda:0', grad_fn=<SliceBackward0>)\n",
      "tensor([[3.0059e-01, 1.3192e-01, 7.9361e-03, 4.9121e-01, 2.5525e-02, 2.6250e-03,\n",
      "         4.3180e-03, 1.6891e-05, 3.3530e-02, 2.3333e-03],\n",
      "        [4.2028e-01, 1.2560e-01, 5.5822e-02, 2.4465e-01, 1.1347e-02, 1.0389e-01,\n",
      "         5.3821e-03, 7.5788e-04, 2.9499e-02, 2.7713e-03],\n",
      "        [7.2904e-01, 5.6282e-02, 3.1799e-02, 1.2558e-01, 2.0311e-02, 1.5625e-02,\n",
      "         6.2654e-03, 1.0833e-04, 1.2301e-02, 2.6895e-03],\n",
      "        [6.1399e-02, 2.1223e-02, 5.0458e-03, 6.3036e-01, 4.2714e-03, 3.1180e-03,\n",
      "         1.8270e-01, 2.2884e-04, 8.4244e-02, 7.4079e-03],\n",
      "        [8.3169e-01, 8.0539e-02, 2.2821e-02, 4.4526e-02, 7.3783e-03, 6.9687e-03,\n",
      "         2.1114e-03, 6.6038e-06, 2.0671e-03, 1.8866e-03]], device='cuda:0',\n",
      "       grad_fn=<SliceBackward0>)\n"
     ]
    }
   ],
   "execution_count": 12
  },
  {
   "metadata": {
    "ExecuteTime": {
     "end_time": "2025-10-27T10:22:23.750245Z",
     "start_time": "2025-10-27T10:22:23.721927Z"
    }
   },
   "cell_type": "code",
   "source": [
    "# Have a summary of the model\n",
    "from torchinfo import summary\n",
    "\n",
    "summary(modelMPL_0, input_size=(BATCH_SIZE, inputs.shape[1], inputs.shape[2]))\n"
   ],
   "id": "774aab764376571c",
   "outputs": [
    {
     "data": {
      "text/plain": [
       "==========================================================================================\n",
       "Layer (type:depth-idx)                   Output Shape              Param #\n",
       "==========================================================================================\n",
       "MLPClassifierV0                          [32, 10]                  --\n",
       "├─Flatten: 1-1                           [32, 1690]                --\n",
       "├─Linear: 1-2                            [32, 512]                 865,792\n",
       "├─ReLU: 1-3                              [32, 512]                 --\n",
       "├─Linear: 1-4                            [32, 256]                 131,328\n",
       "├─ReLU: 1-5                              [32, 256]                 --\n",
       "├─Linear: 1-6                            [32, 64]                  16,448\n",
       "├─ReLU: 1-7                              [32, 64]                  --\n",
       "├─Linear: 1-8                            [32, 10]                  650\n",
       "==========================================================================================\n",
       "Total params: 1,014,218\n",
       "Trainable params: 1,014,218\n",
       "Non-trainable params: 0\n",
       "Total mult-adds (Units.MEGABYTES): 32.45\n",
       "==========================================================================================\n",
       "Input size (MB): 0.22\n",
       "Forward/backward pass size (MB): 0.22\n",
       "Params size (MB): 4.06\n",
       "Estimated Total Size (MB): 4.49\n",
       "=========================================================================================="
      ]
     },
     "execution_count": 13,
     "metadata": {},
     "output_type": "execute_result"
    }
   ],
   "execution_count": 13
  },
  {
   "metadata": {},
   "cell_type": "markdown",
   "source": [
    "## 5. Training the model\n",
    "\n",
    "We start by setting a loss function and an optimizer. Two crucial elements of the training procedure.\n",
    "A helper function named `accuracy_fn()` is going to help us calculate the accuracy. We could use `torchmetrics.accuracy()`, but instead one can implement it.\n",
    "The training pipeling includes defining a dictionary for the results. This will help later on with the plots that will give us a view on how the model performs. The training also involves batching, so loss and accuracy is calculated for each batch and the result is accumulated."
   ],
   "id": "17c953109ac9cd8f"
  },
  {
   "metadata": {
    "ExecuteTime": {
     "end_time": "2025-10-27T10:22:25.810532Z",
     "start_time": "2025-10-27T10:22:23.782257Z"
    }
   },
   "cell_type": "code",
   "source": [
    "# Create loss and optimizer\n",
    "loss_fn = nn.CrossEntropyLoss()\n",
    "optimizer = torch.optim.SGD(modelMPL_0.parameters(),\n",
    "                            lr=0.0001)"
   ],
   "id": "d67ee2d572934532",
   "outputs": [],
   "execution_count": 14
  },
  {
   "metadata": {
    "ExecuteTime": {
     "end_time": "2025-10-27T10:22:25.908825Z",
     "start_time": "2025-10-27T10:22:25.901418Z"
    }
   },
   "cell_type": "code",
   "source": [
    "# Calculate accuracy (a classification metric)\n",
    "def accuracy_fn(y_true, y_pred):\n",
    "    correct = torch.eq(y_true, y_pred).sum().item() # torch.eq() calculates where two tensors are equal\n",
    "    acc = (correct / len(y_pred)) * 100\n",
    "    return acc"
   ],
   "id": "d3045b1a683bee9a",
   "outputs": [],
   "execution_count": 15
  },
  {
   "metadata": {
    "ExecuteTime": {
     "end_time": "2025-10-27T10:52:20.106980Z",
     "start_time": "2025-10-27T10:22:25.920835Z"
    }
   },
   "cell_type": "code",
   "source": [
    "# Train the model\n",
    "EPOCHS = 100\n",
    "\n",
    "# Import tqdm for progress bar\n",
    "from tqdm.auto import tqdm\n",
    "\n",
    "# Set the number of epochs\n",
    "epochs = EPOCHS\n",
    "\n",
    "# Create empty results dictionary\n",
    "results_0 = {\"train_loss\": [],\n",
    "    \"train_acc\": [],\n",
    "    \"test_loss\": [],\n",
    "    \"test_acc\": []\n",
    "}\n",
    "\n",
    "# Create training and testing loop\n",
    "for epoch in tqdm(range(epochs)):\n",
    "    # print(f\"Epoch: {epoch + 1}\\n-------\")\n",
    "    ### Training\n",
    "    train_loss, train_acc = 0, 0\n",
    "    # Add a loop to loop through training batches\n",
    "    for batch, (X, y) in enumerate(train_dataloader):\n",
    "\n",
    "        X, y = X.to(device), y.to(device)\n",
    "        modelMPL_0.train()\n",
    "\n",
    "        # 1. Forward pass\n",
    "        y_pred = modelMPL_0(X)\n",
    "\n",
    "        # 2. Calculate loss (per batch)\n",
    "        loss = loss_fn(y_pred, y)\n",
    "        train_loss += loss # accumulatively add up the loss per epoch\n",
    "\n",
    "        # 3. Optimizer zero grad\n",
    "        optimizer.zero_grad()\n",
    "\n",
    "        # 4. Loss backward\n",
    "        loss.backward()\n",
    "\n",
    "        # 5. Optimizer step\n",
    "        optimizer.step()\n",
    "\n",
    "        #  Calculate accuracy (preds need to be same as y_true)\n",
    "        train_acc += accuracy_fn(y_true=y, y_pred=y_pred.argmax(dim=1)) # argmax() is going to give us the index of the largest logit. Hence the label\n",
    "\n",
    "        # # Print out how many samples have been seen\n",
    "        # if batch % 100 == 0:\n",
    "        #     print(f\"Looked at {batch * len(X)}/{len(train_dataloader.dataset)} samples\")\n",
    "\n",
    "    # Divide total train loss by length of train dataloader (average loss per batch per epoch)\n",
    "    train_loss /= len(train_dataloader)\n",
    "\n",
    "    # Divide total train accuracy by length of train dataloader (per batch)\n",
    "    train_acc /= len(train_dataloader)\n",
    "\n",
    "    ### Testing\n",
    "    # Setup variables for accumulatively adding up loss and accuracy\n",
    "    test_loss, test_acc = 0, 0\n",
    "    modelMPL_0.eval()\n",
    "    with torch.inference_mode():\n",
    "        for X, y in test_dataloader:\n",
    "\n",
    "            X, y = X.to(device), y.to(device)\n",
    "\n",
    "            # 1. Forward pass\n",
    "            test_pred = modelMPL_0(X)\n",
    "\n",
    "            # 2. Calculate loss (accumulatively)\n",
    "            test_loss += loss_fn(test_pred, y) # accumulatively add up the loss per epoch\n",
    "\n",
    "            # 3. Calculate accuracy (preds need to be same as y_true)\n",
    "            test_acc += accuracy_fn(y_true=y, y_pred=test_pred.argmax(dim=1))\n",
    "\n",
    "        # Calculations on test metrics need to happen inside torch.inference_mode()\n",
    "        # Divide total test loss by length of test dataloader (per batch)\n",
    "        test_loss /= len(test_dataloader)\n",
    "\n",
    "        # Divide total accuracy by length of test dataloader (per batch)\n",
    "        test_acc /= len(test_dataloader)\n",
    "\n",
    "    ## Print out what's happening\n",
    "    print(f\"Epoch: {epoch + 1} | Train loss: {train_loss:.5f}, Train acc: {train_acc:.2f}% | Test loss: {test_loss:.5f}, Test acc: {test_acc:.2f}%\")\n",
    "    # 5. Update results dictionary\n",
    "    results_0[\"train_loss\"].append(train_loss.item() if isinstance(train_loss, torch.Tensor) else train_loss)\n",
    "    results_0[\"train_acc\"].append(train_acc.item() if isinstance(train_acc, torch.Tensor) else train_acc)\n",
    "    results_0[\"test_loss\"].append(test_loss.item() if isinstance(test_loss, torch.Tensor) else test_loss)\n",
    "    results_0[\"test_acc\"].append(test_acc.item() if isinstance(test_acc, torch.Tensor) else test_acc)"
   ],
   "id": "8c1cbf465abcca1b",
   "outputs": [
    {
     "data": {
      "text/plain": [
       "  0%|          | 0/100 [00:00<?, ?it/s]"
      ],
      "application/vnd.jupyter.widget-view+json": {
       "version_major": 2,
       "version_minor": 0,
       "model_id": "28235c1808fb4a96a0b4370859bc6f09"
      }
     },
     "metadata": {},
     "output_type": "display_data",
     "jetTransient": {
      "display_id": null
     }
    },
    {
     "name": "stdout",
     "output_type": "stream",
     "text": [
      "Epoch: 1 | Train loss: 2.12955, Train acc: 27.89% | Test loss: 1.85886, Test acc: 33.94%\n",
      "Epoch: 2 | Train loss: 1.75513, Train acc: 38.22% | Test loss: 1.72971, Test acc: 37.98%\n",
      "Epoch: 3 | Train loss: 1.64711, Train acc: 41.47% | Test loss: 1.65391, Test acc: 39.92%\n",
      "Epoch: 4 | Train loss: 1.57499, Train acc: 44.52% | Test loss: 1.61481, Test acc: 41.37%\n",
      "Epoch: 5 | Train loss: 1.52258, Train acc: 46.14% | Test loss: 1.56727, Test acc: 43.04%\n",
      "Epoch: 6 | Train loss: 1.47844, Train acc: 47.61% | Test loss: 1.53643, Test acc: 44.58%\n",
      "Epoch: 7 | Train loss: 1.43760, Train acc: 48.96% | Test loss: 1.50770, Test acc: 45.07%\n",
      "Epoch: 8 | Train loss: 1.40455, Train acc: 50.63% | Test loss: 1.48832, Test acc: 46.37%\n",
      "Epoch: 9 | Train loss: 1.37451, Train acc: 51.00% | Test loss: 1.46720, Test acc: 46.25%\n",
      "Epoch: 10 | Train loss: 1.34671, Train acc: 52.40% | Test loss: 1.44315, Test acc: 47.06%\n",
      "Epoch: 11 | Train loss: 1.32133, Train acc: 53.48% | Test loss: 1.42931, Test acc: 48.33%\n",
      "Epoch: 12 | Train loss: 1.29947, Train acc: 54.26% | Test loss: 1.41158, Test acc: 49.26%\n",
      "Epoch: 13 | Train loss: 1.27707, Train acc: 54.75% | Test loss: 1.40526, Test acc: 48.92%\n",
      "Epoch: 14 | Train loss: 1.25645, Train acc: 55.11% | Test loss: 1.38994, Test acc: 49.09%\n",
      "Epoch: 15 | Train loss: 1.23609, Train acc: 56.32% | Test loss: 1.37868, Test acc: 49.74%\n",
      "Epoch: 16 | Train loss: 1.21805, Train acc: 57.08% | Test loss: 1.36715, Test acc: 50.04%\n",
      "Epoch: 17 | Train loss: 1.20082, Train acc: 57.67% | Test loss: 1.35722, Test acc: 51.25%\n",
      "Epoch: 18 | Train loss: 1.18236, Train acc: 58.57% | Test loss: 1.35577, Test acc: 50.98%\n",
      "Epoch: 19 | Train loss: 1.16817, Train acc: 58.96% | Test loss: 1.34056, Test acc: 51.17%\n",
      "Epoch: 20 | Train loss: 1.15174, Train acc: 59.29% | Test loss: 1.32650, Test acc: 51.52%\n",
      "Epoch: 21 | Train loss: 1.13596, Train acc: 60.23% | Test loss: 1.33966, Test acc: 51.17%\n",
      "Epoch: 22 | Train loss: 1.12274, Train acc: 60.41% | Test loss: 1.31949, Test acc: 52.22%\n",
      "Epoch: 23 | Train loss: 1.10845, Train acc: 61.56% | Test loss: 1.31385, Test acc: 52.19%\n",
      "Epoch: 24 | Train loss: 1.09553, Train acc: 61.80% | Test loss: 1.29867, Test acc: 52.91%\n",
      "Epoch: 25 | Train loss: 1.08280, Train acc: 62.25% | Test loss: 1.31299, Test acc: 51.88%\n",
      "Epoch: 26 | Train loss: 1.06996, Train acc: 63.40% | Test loss: 1.28719, Test acc: 53.22%\n",
      "Epoch: 27 | Train loss: 1.05766, Train acc: 63.80% | Test loss: 1.29273, Test acc: 52.68%\n",
      "Epoch: 28 | Train loss: 1.04649, Train acc: 64.37% | Test loss: 1.28038, Test acc: 52.91%\n",
      "Epoch: 29 | Train loss: 1.03301, Train acc: 64.92% | Test loss: 1.27719, Test acc: 53.25%\n",
      "Epoch: 30 | Train loss: 1.02327, Train acc: 65.21% | Test loss: 1.26806, Test acc: 53.72%\n",
      "Epoch: 31 | Train loss: 1.01175, Train acc: 65.44% | Test loss: 1.26758, Test acc: 53.87%\n",
      "Epoch: 32 | Train loss: 1.00196, Train acc: 65.92% | Test loss: 1.25578, Test acc: 54.14%\n",
      "Epoch: 33 | Train loss: 0.99199, Train acc: 66.34% | Test loss: 1.25605, Test acc: 54.14%\n",
      "Epoch: 34 | Train loss: 0.97981, Train acc: 66.64% | Test loss: 1.24894, Test acc: 54.37%\n",
      "Epoch: 35 | Train loss: 0.97112, Train acc: 67.30% | Test loss: 1.24709, Test acc: 54.47%\n",
      "Epoch: 36 | Train loss: 0.96092, Train acc: 67.74% | Test loss: 1.24475, Test acc: 53.91%\n",
      "Epoch: 37 | Train loss: 0.95102, Train acc: 68.43% | Test loss: 1.23914, Test acc: 55.50%\n",
      "Epoch: 38 | Train loss: 0.93986, Train acc: 68.33% | Test loss: 1.24119, Test acc: 54.38%\n",
      "Epoch: 39 | Train loss: 0.93209, Train acc: 68.69% | Test loss: 1.24851, Test acc: 54.47%\n",
      "Epoch: 40 | Train loss: 0.92213, Train acc: 69.31% | Test loss: 1.22628, Test acc: 55.00%\n",
      "Epoch: 41 | Train loss: 0.91207, Train acc: 69.72% | Test loss: 1.22735, Test acc: 55.02%\n",
      "Epoch: 42 | Train loss: 0.90523, Train acc: 69.85% | Test loss: 1.22687, Test acc: 54.64%\n",
      "Epoch: 43 | Train loss: 0.89593, Train acc: 70.27% | Test loss: 1.23626, Test acc: 54.68%\n",
      "Epoch: 44 | Train loss: 0.88675, Train acc: 70.74% | Test loss: 1.21577, Test acc: 55.81%\n",
      "Epoch: 45 | Train loss: 0.88079, Train acc: 70.47% | Test loss: 1.21646, Test acc: 54.92%\n",
      "Epoch: 46 | Train loss: 0.87043, Train acc: 71.53% | Test loss: 1.21633, Test acc: 55.73%\n",
      "Epoch: 47 | Train loss: 0.86267, Train acc: 71.40% | Test loss: 1.20237, Test acc: 56.21%\n",
      "Epoch: 48 | Train loss: 0.85426, Train acc: 72.26% | Test loss: 1.21066, Test acc: 55.88%\n",
      "Epoch: 49 | Train loss: 0.84596, Train acc: 72.20% | Test loss: 1.20156, Test acc: 55.76%\n",
      "Epoch: 50 | Train loss: 0.83978, Train acc: 72.68% | Test loss: 1.20180, Test acc: 55.95%\n",
      "Epoch: 51 | Train loss: 0.83142, Train acc: 72.70% | Test loss: 1.20289, Test acc: 55.81%\n",
      "Epoch: 52 | Train loss: 0.82404, Train acc: 73.39% | Test loss: 1.19565, Test acc: 56.06%\n",
      "Epoch: 53 | Train loss: 0.81516, Train acc: 73.61% | Test loss: 1.18689, Test acc: 57.14%\n",
      "Epoch: 54 | Train loss: 0.80746, Train acc: 73.82% | Test loss: 1.18771, Test acc: 56.61%\n",
      "Epoch: 55 | Train loss: 0.79994, Train acc: 74.33% | Test loss: 1.19193, Test acc: 56.53%\n",
      "Epoch: 56 | Train loss: 0.79358, Train acc: 74.61% | Test loss: 1.20712, Test acc: 56.33%\n",
      "Epoch: 57 | Train loss: 0.78466, Train acc: 74.45% | Test loss: 1.18148, Test acc: 56.98%\n",
      "Epoch: 58 | Train loss: 0.77656, Train acc: 75.56% | Test loss: 1.19115, Test acc: 56.73%\n",
      "Epoch: 59 | Train loss: 0.77016, Train acc: 75.55% | Test loss: 1.19201, Test acc: 56.76%\n",
      "Epoch: 60 | Train loss: 0.76580, Train acc: 75.47% | Test loss: 1.18263, Test acc: 57.10%\n",
      "Epoch: 61 | Train loss: 0.75769, Train acc: 76.13% | Test loss: 1.18615, Test acc: 57.22%\n",
      "Epoch: 62 | Train loss: 0.75131, Train acc: 76.55% | Test loss: 1.19651, Test acc: 56.60%\n",
      "Epoch: 63 | Train loss: 0.74440, Train acc: 76.57% | Test loss: 1.20145, Test acc: 56.66%\n",
      "Epoch: 64 | Train loss: 0.73850, Train acc: 77.10% | Test loss: 1.17763, Test acc: 57.43%\n",
      "Epoch: 65 | Train loss: 0.73044, Train acc: 77.19% | Test loss: 1.18631, Test acc: 56.90%\n",
      "Epoch: 66 | Train loss: 0.72362, Train acc: 77.52% | Test loss: 1.17175, Test acc: 57.53%\n",
      "Epoch: 67 | Train loss: 0.71821, Train acc: 77.38% | Test loss: 1.18467, Test acc: 57.26%\n",
      "Epoch: 68 | Train loss: 0.70989, Train acc: 78.17% | Test loss: 1.17982, Test acc: 58.06%\n",
      "Epoch: 69 | Train loss: 0.70483, Train acc: 78.17% | Test loss: 1.17351, Test acc: 57.83%\n",
      "Epoch: 70 | Train loss: 0.69769, Train acc: 78.58% | Test loss: 1.17240, Test acc: 57.83%\n",
      "Epoch: 71 | Train loss: 0.69177, Train acc: 78.93% | Test loss: 1.17083, Test acc: 57.83%\n",
      "Epoch: 72 | Train loss: 0.68448, Train acc: 79.12% | Test loss: 1.16733, Test acc: 58.13%\n",
      "Epoch: 73 | Train loss: 0.67940, Train acc: 79.03% | Test loss: 1.18255, Test acc: 57.18%\n",
      "Epoch: 74 | Train loss: 0.67381, Train acc: 79.14% | Test loss: 1.17971, Test acc: 57.38%\n",
      "Epoch: 75 | Train loss: 0.66540, Train acc: 79.56% | Test loss: 1.17482, Test acc: 57.66%\n",
      "Epoch: 76 | Train loss: 0.66108, Train acc: 80.19% | Test loss: 1.17556, Test acc: 58.01%\n",
      "Epoch: 77 | Train loss: 0.65552, Train acc: 80.44% | Test loss: 1.16075, Test acc: 58.93%\n",
      "Epoch: 78 | Train loss: 0.64967, Train acc: 80.01% | Test loss: 1.16299, Test acc: 58.53%\n",
      "Epoch: 79 | Train loss: 0.64252, Train acc: 80.67% | Test loss: 1.16314, Test acc: 58.66%\n",
      "Epoch: 80 | Train loss: 0.63806, Train acc: 80.58% | Test loss: 1.16411, Test acc: 58.13%\n",
      "Epoch: 81 | Train loss: 0.63119, Train acc: 80.98% | Test loss: 1.16573, Test acc: 58.87%\n",
      "Epoch: 82 | Train loss: 0.62550, Train acc: 81.22% | Test loss: 1.16585, Test acc: 58.31%\n",
      "Epoch: 83 | Train loss: 0.62050, Train acc: 81.53% | Test loss: 1.17389, Test acc: 57.66%\n",
      "Epoch: 84 | Train loss: 0.61314, Train acc: 82.08% | Test loss: 1.16958, Test acc: 57.96%\n",
      "Epoch: 85 | Train loss: 0.60749, Train acc: 82.00% | Test loss: 1.15484, Test acc: 59.10%\n",
      "Epoch: 86 | Train loss: 0.60217, Train acc: 82.28% | Test loss: 1.16503, Test acc: 58.67%\n",
      "Epoch: 87 | Train loss: 0.59551, Train acc: 82.05% | Test loss: 1.16031, Test acc: 58.89%\n",
      "Epoch: 88 | Train loss: 0.59188, Train acc: 82.89% | Test loss: 1.16140, Test acc: 58.43%\n",
      "Epoch: 89 | Train loss: 0.58619, Train acc: 82.62% | Test loss: 1.15842, Test acc: 58.93%\n",
      "Epoch: 90 | Train loss: 0.57824, Train acc: 83.55% | Test loss: 1.15477, Test acc: 59.17%\n",
      "Epoch: 91 | Train loss: 0.57415, Train acc: 83.35% | Test loss: 1.16775, Test acc: 58.56%\n",
      "Epoch: 92 | Train loss: 0.56817, Train acc: 83.75% | Test loss: 1.16085, Test acc: 59.09%\n",
      "Epoch: 93 | Train loss: 0.56340, Train acc: 83.85% | Test loss: 1.15317, Test acc: 58.93%\n",
      "Epoch: 94 | Train loss: 0.55845, Train acc: 83.98% | Test loss: 1.16340, Test acc: 58.21%\n",
      "Epoch: 95 | Train loss: 0.55324, Train acc: 84.22% | Test loss: 1.16655, Test acc: 58.61%\n",
      "Epoch: 96 | Train loss: 0.54746, Train acc: 84.72% | Test loss: 1.16366, Test acc: 58.97%\n",
      "Epoch: 97 | Train loss: 0.54183, Train acc: 84.63% | Test loss: 1.15715, Test acc: 58.99%\n",
      "Epoch: 98 | Train loss: 0.53618, Train acc: 85.24% | Test loss: 1.15412, Test acc: 59.14%\n",
      "Epoch: 99 | Train loss: 0.53153, Train acc: 85.27% | Test loss: 1.15104, Test acc: 59.37%\n",
      "Epoch: 100 | Train loss: 0.52718, Train acc: 85.14% | Test loss: 1.15569, Test acc: 59.50%\n"
     ]
    }
   ],
   "execution_count": 16
  },
  {
   "metadata": {},
   "cell_type": "markdown",
   "source": [
    "## 6. Plotting the results\n",
    "\n",
    "We define a helper method to plot the results. We then use matplotlib to plot how our model performed."
   ],
   "id": "6a24eabe61993d85"
  },
  {
   "metadata": {
    "ExecuteTime": {
     "end_time": "2025-10-27T10:52:20.399038Z",
     "start_time": "2025-10-27T10:52:20.387543Z"
    }
   },
   "cell_type": "code",
   "source": [
    "# Method to plot loss and accuracy\n",
    "from typing import Tuple, Dict, List\n",
    "def plot_loss_curves(results: Dict[str, List[float]]):\n",
    "\n",
    "    # Get the loss values of the results dictionary (training and test)\n",
    "    loss = results['train_loss']\n",
    "    test_loss = results['test_loss']\n",
    "\n",
    "    # Get the accuracy values of the results dictionary (training and test)\n",
    "    accuracy = results['train_acc']\n",
    "    test_accuracy = results['test_acc']\n",
    "\n",
    "    # Figure out how many epochs there were\n",
    "    epochs = range(len(results['train_loss']))\n",
    "\n",
    "    # Setup a plot\n",
    "    plt.figure(figsize=(15, 7))\n",
    "\n",
    "    # Plot loss\n",
    "    plt.subplot(1, 2, 1)\n",
    "    plt.plot(epochs, loss, label='train_loss')\n",
    "    plt.plot(epochs, test_loss, label='test_loss')\n",
    "    plt.title('Loss')\n",
    "    plt.xlabel('Epochs')\n",
    "    plt.legend()\n",
    "\n",
    "    # Plot accuracy\n",
    "    plt.subplot(1, 2, 2)\n",
    "    plt.plot(epochs, accuracy, label='train_accuracy')\n",
    "    plt.plot(epochs, test_accuracy, label='test_accuracy')\n",
    "    plt.title('Accuracy')\n",
    "    plt.xlabel('Epochs')\n",
    "    plt.legend();"
   ],
   "id": "3ebf825cc3f6df80",
   "outputs": [],
   "execution_count": 17
  },
  {
   "metadata": {
    "ExecuteTime": {
     "end_time": "2025-10-27T10:52:21.138352Z",
     "start_time": "2025-10-27T10:52:20.413100Z"
    }
   },
   "cell_type": "code",
   "source": "plot_loss_curves(results_0)",
   "id": "baabbc0bbdf24e5a",
   "outputs": [
    {
     "data": {
      "text/plain": [
       "<Figure size 1500x700 with 2 Axes>"
      ],
      "image/png": "[encoded data removed]"
     },
     "metadata": {},
     "output_type": "display_data",
     "jetTransient": {
      "display_id": null
     }
    }
   ],
   "execution_count": 18
  },
  {
   "metadata": {},
   "cell_type": "markdown",
   "source": "Judging by the plot results. We see that our model is overfitting. Somewhere after the 8 epochs, the model starts going well on the train test, but not so well on the test set. As a result we will try to make a new model to avoid this.",
   "id": "4fd2f611b55f4cf"
  },
  {
   "metadata": {},
   "cell_type": "markdown",
   "source": [
    "## 7. Implementing methods to avoid overfitting\n",
    "\n",
    "As we saw on the plots, our first model is overfitting. There are several methods to avoid that. We are going to create a second version of our model. It is going to be the same as the first with 2 differences. We are going to apply dropout and regularization. In order to do that, a `nn.Dropout()` layer is added in the model. We are also going to add an L2 regularization. This is added in the optimizer with the form of the `weight_decay` argument.\n",
    "\n",
    "After instatiating the new model, we follow the same training and plotting pipelines."
   ],
   "id": "1578ba5ba11e3762"
  },
  {
   "metadata": {
    "ExecuteTime": {
     "end_time": "2025-10-27T10:52:21.199909Z",
     "start_time": "2025-10-27T10:52:21.150871Z"
    }
   },
   "cell_type": "code",
   "source": [
    "# Build the network architecture\n",
    "NUM_CLASSES = 10\n",
    "INPUT_SHAPE = (inputs.shape[1], inputs.shape[2])\n",
    "\n",
    "class MLPClassifierV1(nn.Module):\n",
    "    def __init__(self, input_shape, num_classes=10):\n",
    "        super().__init__()\n",
    "\n",
    "        num_features = input_shape[0] * input_shape[1]  # f\n",
    "\n",
    "        self.flatten = nn.Flatten()\n",
    "        self.fc1 = nn.Linear(num_features, 512)\n",
    "        self.fc2 = nn.Linear(512, 256)\n",
    "        self.fc3 = nn.Linear(256, 64)\n",
    "        self.output = nn.Linear(64, num_classes)\n",
    "        self.relu = nn.ReLU()\n",
    "        self.dropout = nn.Dropout(p=0.3)  # 30% dropout\n",
    "\n",
    "\n",
    "    def forward(self, x):\n",
    "        x = self.flatten(x)\n",
    "\n",
    "        x = self.fc1(x)\n",
    "        x = self.relu(x)\n",
    "        x = self.dropout(x)\n",
    "\n",
    "        x = self.fc2(x)\n",
    "        x = self.relu(x)\n",
    "        x = self.dropout(x)\n",
    "\n",
    "        x = self.fc3(x)\n",
    "        x = self.relu(x)\n",
    "        x = self.dropout(x)\n",
    "\n",
    "        x = self.output(x)\n",
    "        return x\n",
    "\n",
    "# Create a model and put it to device\n",
    "torch.manual_seed(RANDOM_SEED)\n",
    "modelMPL_1 = MLPClassifierV1(input_shape=INPUT_SHAPE, num_classes=NUM_CLASSES).to(device)\n",
    "print(modelMPL_1)"
   ],
   "id": "c52d3d000d14cf1c",
   "outputs": [
    {
     "name": "stdout",
     "output_type": "stream",
     "text": [
      "MLPClassifierV1(\n",
      "  (flatten): Flatten(start_dim=1, end_dim=-1)\n",
      "  (fc1): Linear(in_features=1690, out_features=512, bias=True)\n",
      "  (fc2): Linear(in_features=512, out_features=256, bias=True)\n",
      "  (fc3): Linear(in_features=256, out_features=64, bias=True)\n",
      "  (output): Linear(in_features=64, out_features=10, bias=True)\n",
      "  (relu): ReLU()\n",
      "  (dropout): Dropout(p=0.3, inplace=False)\n",
      ")\n"
     ]
    }
   ],
   "execution_count": 19
  },
  {
   "metadata": {
    "ExecuteTime": {
     "end_time": "2025-10-27T10:52:21.238411Z",
     "start_time": "2025-10-27T10:52:21.231517Z"
    }
   },
   "cell_type": "code",
   "source": [
    "# Create loss and optimizer with L2 Regularization\n",
    "loss_fn = nn.CrossEntropyLoss()\n",
    "optimizer = torch.optim.SGD(modelMPL_1.parameters(),\n",
    "                            lr=0.0001,\n",
    "                            weight_decay=0.001) # added regularization"
   ],
   "id": "a27f53f6fde9f886",
   "outputs": [],
   "execution_count": 20
  },
  {
   "metadata": {
    "ExecuteTime": {
     "end_time": "2025-10-27T11:22:45.892268Z",
     "start_time": "2025-10-27T10:52:21.251422Z"
    }
   },
   "cell_type": "code",
   "source": [
    "# Train the model\n",
    "EPOCHS = 100\n",
    "\n",
    "# Set the number of epochs\n",
    "epochs = EPOCHS\n",
    "\n",
    "# Create empty results dictionary\n",
    "results_1 = {\"train_loss\": [],\n",
    "    \"train_acc\": [],\n",
    "    \"test_loss\": [],\n",
    "    \"test_acc\": []\n",
    "}\n",
    "\n",
    "# Create training and testing loop\n",
    "for epoch in tqdm(range(epochs)):\n",
    "    # print(f\"Epoch: {epoch + 1}\\n-------\")\n",
    "    ### Training\n",
    "    train_loss, train_acc = 0, 0\n",
    "    # Add a loop to loop through training batches\n",
    "    for batch, (X, y) in enumerate(train_dataloader):\n",
    "\n",
    "        X, y = X.to(device), y.to(device)\n",
    "\n",
    "        modelMPL_1.train()\n",
    "        # 1. Forward pass\n",
    "        y_pred = modelMPL_1(X)\n",
    "\n",
    "        # 2. Calculate loss (per batch)\n",
    "        loss = loss_fn(y_pred, y)\n",
    "        train_loss += loss # accumulatively add up the loss per epoch\n",
    "\n",
    "        # 3. Optimizer zero grad\n",
    "        optimizer.zero_grad()\n",
    "\n",
    "        # 4. Loss backward\n",
    "        loss.backward()\n",
    "\n",
    "        # 5. Optimizer step\n",
    "        optimizer.step()\n",
    "\n",
    "        #  Calculate accuracy (preds need to be same as y_true)\n",
    "        train_acc += accuracy_fn(y_true=y, y_pred=y_pred.argmax(dim=1))\n",
    "\n",
    "        # # Print out how many samples have been seen\n",
    "        # if batch % 100 == 0:\n",
    "        #     print(f\"Looked at {batch * len(X)}/{len(train_dataloader.dataset)} samples\")\n",
    "\n",
    "    # Divide total train loss by length of train dataloader (average loss per batch per epoch)\n",
    "    train_loss /= len(train_dataloader)\n",
    "\n",
    "    # Divide total train accuracy by length of train dataloader (per batch)\n",
    "    train_acc /= len(train_dataloader)\n",
    "\n",
    "    ### Testing\n",
    "    # Setup variables for accumulatively adding up loss and accuracy\n",
    "    test_loss, test_acc = 0, 0\n",
    "    modelMPL_1.eval()\n",
    "    with torch.inference_mode():\n",
    "        for X, y in test_dataloader:\n",
    "\n",
    "            X, y = X.to(device), y.to(device)\n",
    "\n",
    "            # 1. Forward pass\n",
    "            test_pred = modelMPL_1(X)\n",
    "\n",
    "            # 2. Calculate loss (accumulatively)\n",
    "            test_loss += loss_fn(test_pred, y) # accumulatively add up the loss per epoch\n",
    "\n",
    "            # 3. Calculate accuracy (preds need to be same as y_true)\n",
    "            test_acc += accuracy_fn(y_true=y, y_pred=test_pred.argmax(dim=1))\n",
    "\n",
    "        # Calculations on test metrics need to happen inside torch.inference_mode()\n",
    "        # Divide total test loss by length of test dataloader (per batch)\n",
    "        test_loss /= len(test_dataloader)\n",
    "\n",
    "        # Divide total accuracy by length of test dataloader (per batch)\n",
    "        test_acc /= len(test_dataloader)\n",
    "\n",
    "    ## Print out what's happening\n",
    "    print(f\"Epoch: {epoch + 1} | Train loss: {train_loss:.5f}, Train acc: {train_acc:.2f}% | Test loss: {test_loss:.5f}, Test acc: {test_acc:.2f}%\")\n",
    "\n",
    "    # 5. Update results dictionary\n",
    "    results_1[\"train_loss\"].append(train_loss.item() if isinstance(train_loss, torch.Tensor) else train_loss)\n",
    "    results_1[\"train_acc\"].append(train_acc.item() if isinstance(train_acc, torch.Tensor) else train_acc)\n",
    "    results_1[\"test_loss\"].append(test_loss.item() if isinstance(test_loss, torch.Tensor) else test_loss)\n",
    "    results_1[\"test_acc\"].append(test_acc.item() if isinstance(test_acc, torch.Tensor) else test_acc)"
   ],
   "id": "d62fc2f93dfb24e0",
   "outputs": [
    {
     "data": {
      "text/plain": [
       "  0%|          | 0/100 [00:00<?, ?it/s]"
      ],
      "application/vnd.jupyter.widget-view+json": {
       "version_major": 2,
       "version_minor": 0,
       "model_id": "5a6b7d51e3e2483a8fc260bcd630914c"
      }
     },
     "metadata": {},
     "output_type": "display_data",
     "jetTransient": {
      "display_id": null
     }
    },
    {
     "name": "stdout",
     "output_type": "stream",
     "text": [
      "Epoch: 1 | Train loss: 3.08382, Train acc: 15.55% | Test loss: 2.02952, Test acc: 29.26%\n",
      "Epoch: 2 | Train loss: 2.37300, Train acc: 21.00% | Test loss: 1.98523, Test acc: 30.72%\n",
      "Epoch: 3 | Train loss: 2.23480, Train acc: 23.83% | Test loss: 1.94653, Test acc: 31.75%\n",
      "Epoch: 4 | Train loss: 2.15043, Train acc: 26.08% | Test loss: 1.90429, Test acc: 33.87%\n",
      "Epoch: 5 | Train loss: 2.11839, Train acc: 26.48% | Test loss: 1.87770, Test acc: 34.71%\n",
      "Epoch: 6 | Train loss: 2.06062, Train acc: 28.16% | Test loss: 1.84670, Test acc: 35.34%\n",
      "Epoch: 7 | Train loss: 2.01323, Train acc: 29.12% | Test loss: 1.82065, Test acc: 36.47%\n",
      "Epoch: 8 | Train loss: 1.98042, Train acc: 30.62% | Test loss: 1.80122, Test acc: 37.04%\n",
      "Epoch: 9 | Train loss: 1.97217, Train acc: 29.47% | Test loss: 1.77649, Test acc: 37.49%\n",
      "Epoch: 10 | Train loss: 1.92578, Train acc: 32.08% | Test loss: 1.75507, Test acc: 38.20%\n",
      "Epoch: 11 | Train loss: 1.92840, Train acc: 32.24% | Test loss: 1.73912, Test acc: 38.80%\n",
      "Epoch: 12 | Train loss: 1.90527, Train acc: 32.32% | Test loss: 1.72648, Test acc: 38.91%\n",
      "Epoch: 13 | Train loss: 1.88031, Train acc: 33.33% | Test loss: 1.71304, Test acc: 39.05%\n",
      "Epoch: 14 | Train loss: 1.85169, Train acc: 33.74% | Test loss: 1.70156, Test acc: 39.35%\n",
      "Epoch: 15 | Train loss: 1.85098, Train acc: 33.71% | Test loss: 1.68519, Test acc: 39.91%\n",
      "Epoch: 16 | Train loss: 1.83237, Train acc: 35.31% | Test loss: 1.67498, Test acc: 40.88%\n",
      "Epoch: 17 | Train loss: 1.82576, Train acc: 35.19% | Test loss: 1.66285, Test acc: 41.21%\n",
      "Epoch: 18 | Train loss: 1.80238, Train acc: 35.55% | Test loss: 1.65181, Test acc: 41.49%\n",
      "Epoch: 19 | Train loss: 1.81153, Train acc: 35.42% | Test loss: 1.64868, Test acc: 41.91%\n",
      "Epoch: 20 | Train loss: 1.80625, Train acc: 35.92% | Test loss: 1.64037, Test acc: 41.88%\n",
      "Epoch: 21 | Train loss: 1.75751, Train acc: 37.47% | Test loss: 1.62643, Test acc: 42.01%\n",
      "Epoch: 22 | Train loss: 1.75515, Train acc: 37.27% | Test loss: 1.62106, Test acc: 42.42%\n",
      "Epoch: 23 | Train loss: 1.75457, Train acc: 37.82% | Test loss: 1.61172, Test acc: 42.34%\n",
      "Epoch: 24 | Train loss: 1.74179, Train acc: 38.12% | Test loss: 1.60265, Test acc: 43.26%\n",
      "Epoch: 25 | Train loss: 1.73358, Train acc: 38.27% | Test loss: 1.59929, Test acc: 42.98%\n",
      "Epoch: 26 | Train loss: 1.72909, Train acc: 38.01% | Test loss: 1.58840, Test acc: 42.94%\n",
      "Epoch: 27 | Train loss: 1.70432, Train acc: 38.79% | Test loss: 1.57887, Test acc: 43.54%\n",
      "Epoch: 28 | Train loss: 1.71294, Train acc: 38.96% | Test loss: 1.56917, Test acc: 44.11%\n",
      "Epoch: 29 | Train loss: 1.70457, Train acc: 38.43% | Test loss: 1.56656, Test acc: 43.69%\n",
      "Epoch: 30 | Train loss: 1.70336, Train acc: 38.54% | Test loss: 1.56182, Test acc: 43.97%\n",
      "Epoch: 31 | Train loss: 1.68979, Train acc: 39.01% | Test loss: 1.55464, Test acc: 44.14%\n",
      "Epoch: 32 | Train loss: 1.66206, Train acc: 40.73% | Test loss: 1.55460, Test acc: 44.52%\n",
      "Epoch: 33 | Train loss: 1.67701, Train acc: 39.34% | Test loss: 1.54229, Test acc: 45.16%\n",
      "Epoch: 34 | Train loss: 1.64585, Train acc: 40.29% | Test loss: 1.53547, Test acc: 44.92%\n",
      "Epoch: 35 | Train loss: 1.64908, Train acc: 40.31% | Test loss: 1.53152, Test acc: 44.89%\n",
      "Epoch: 36 | Train loss: 1.65717, Train acc: 40.29% | Test loss: 1.52469, Test acc: 45.59%\n",
      "Epoch: 37 | Train loss: 1.67154, Train acc: 39.91% | Test loss: 1.52086, Test acc: 45.56%\n",
      "Epoch: 38 | Train loss: 1.63658, Train acc: 40.94% | Test loss: 1.51028, Test acc: 45.46%\n",
      "Epoch: 39 | Train loss: 1.63114, Train acc: 41.33% | Test loss: 1.50845, Test acc: 45.75%\n",
      "Epoch: 40 | Train loss: 1.61630, Train acc: 41.94% | Test loss: 1.50715, Test acc: 45.69%\n",
      "Epoch: 41 | Train loss: 1.63616, Train acc: 41.37% | Test loss: 1.50081, Test acc: 46.72%\n",
      "Epoch: 42 | Train loss: 1.61242, Train acc: 41.86% | Test loss: 1.50093, Test acc: 46.63%\n",
      "Epoch: 43 | Train loss: 1.61447, Train acc: 41.52% | Test loss: 1.49393, Test acc: 47.07%\n",
      "Epoch: 44 | Train loss: 1.61415, Train acc: 41.40% | Test loss: 1.49386, Test acc: 46.64%\n",
      "Epoch: 45 | Train loss: 1.58828, Train acc: 42.88% | Test loss: 1.48560, Test acc: 47.03%\n",
      "Epoch: 46 | Train loss: 1.59803, Train acc: 42.41% | Test loss: 1.48097, Test acc: 47.60%\n",
      "Epoch: 47 | Train loss: 1.59571, Train acc: 42.95% | Test loss: 1.47951, Test acc: 47.63%\n",
      "Epoch: 48 | Train loss: 1.58949, Train acc: 42.80% | Test loss: 1.47499, Test acc: 47.93%\n",
      "Epoch: 49 | Train loss: 1.57473, Train acc: 43.48% | Test loss: 1.47565, Test acc: 47.42%\n",
      "Epoch: 50 | Train loss: 1.57510, Train acc: 43.05% | Test loss: 1.46769, Test acc: 47.90%\n",
      "Epoch: 51 | Train loss: 1.58324, Train acc: 43.13% | Test loss: 1.46365, Test acc: 48.26%\n",
      "Epoch: 52 | Train loss: 1.56047, Train acc: 44.00% | Test loss: 1.46041, Test acc: 48.49%\n",
      "Epoch: 53 | Train loss: 1.56158, Train acc: 44.28% | Test loss: 1.45604, Test acc: 48.36%\n",
      "Epoch: 54 | Train loss: 1.53709, Train acc: 45.37% | Test loss: 1.44736, Test acc: 48.56%\n",
      "Epoch: 55 | Train loss: 1.57159, Train acc: 43.75% | Test loss: 1.45008, Test acc: 48.69%\n",
      "Epoch: 56 | Train loss: 1.55899, Train acc: 43.58% | Test loss: 1.44567, Test acc: 48.66%\n",
      "Epoch: 57 | Train loss: 1.53857, Train acc: 45.12% | Test loss: 1.44010, Test acc: 48.98%\n",
      "Epoch: 58 | Train loss: 1.54323, Train acc: 44.39% | Test loss: 1.43893, Test acc: 49.35%\n",
      "Epoch: 59 | Train loss: 1.54119, Train acc: 43.80% | Test loss: 1.43298, Test acc: 49.18%\n",
      "Epoch: 60 | Train loss: 1.52384, Train acc: 44.77% | Test loss: 1.43352, Test acc: 48.95%\n",
      "Epoch: 61 | Train loss: 1.52509, Train acc: 45.56% | Test loss: 1.43336, Test acc: 48.55%\n",
      "Epoch: 62 | Train loss: 1.51542, Train acc: 45.25% | Test loss: 1.42535, Test acc: 49.44%\n",
      "Epoch: 63 | Train loss: 1.52532, Train acc: 45.18% | Test loss: 1.42040, Test acc: 49.38%\n",
      "Epoch: 64 | Train loss: 1.51724, Train acc: 45.61% | Test loss: 1.42015, Test acc: 49.11%\n",
      "Epoch: 65 | Train loss: 1.51203, Train acc: 44.77% | Test loss: 1.42334, Test acc: 49.71%\n",
      "Epoch: 66 | Train loss: 1.50412, Train acc: 45.91% | Test loss: 1.41768, Test acc: 49.52%\n",
      "Epoch: 67 | Train loss: 1.50716, Train acc: 45.78% | Test loss: 1.41239, Test acc: 49.48%\n",
      "Epoch: 68 | Train loss: 1.49371, Train acc: 45.88% | Test loss: 1.40746, Test acc: 49.83%\n",
      "Epoch: 69 | Train loss: 1.50398, Train acc: 45.67% | Test loss: 1.40564, Test acc: 50.34%\n",
      "Epoch: 70 | Train loss: 1.49303, Train acc: 46.09% | Test loss: 1.40594, Test acc: 50.36%\n",
      "Epoch: 71 | Train loss: 1.49442, Train acc: 45.74% | Test loss: 1.40066, Test acc: 50.42%\n",
      "Epoch: 72 | Train loss: 1.47990, Train acc: 46.65% | Test loss: 1.39861, Test acc: 50.22%\n",
      "Epoch: 73 | Train loss: 1.48055, Train acc: 46.07% | Test loss: 1.39303, Test acc: 50.56%\n",
      "Epoch: 74 | Train loss: 1.47236, Train acc: 47.11% | Test loss: 1.39332, Test acc: 50.39%\n",
      "Epoch: 75 | Train loss: 1.47994, Train acc: 46.72% | Test loss: 1.39726, Test acc: 50.77%\n",
      "Epoch: 76 | Train loss: 1.47085, Train acc: 46.81% | Test loss: 1.39065, Test acc: 50.98%\n",
      "Epoch: 77 | Train loss: 1.45041, Train acc: 47.83% | Test loss: 1.38440, Test acc: 50.98%\n",
      "Epoch: 78 | Train loss: 1.46572, Train acc: 47.31% | Test loss: 1.38688, Test acc: 51.00%\n",
      "Epoch: 79 | Train loss: 1.47703, Train acc: 47.07% | Test loss: 1.38456, Test acc: 51.11%\n",
      "Epoch: 80 | Train loss: 1.44202, Train acc: 47.68% | Test loss: 1.38298, Test acc: 50.70%\n",
      "Epoch: 81 | Train loss: 1.45343, Train acc: 46.71% | Test loss: 1.38294, Test acc: 50.82%\n",
      "Epoch: 82 | Train loss: 1.45275, Train acc: 48.23% | Test loss: 1.38208, Test acc: 51.17%\n",
      "Epoch: 83 | Train loss: 1.44213, Train acc: 47.86% | Test loss: 1.37157, Test acc: 51.13%\n",
      "Epoch: 84 | Train loss: 1.44593, Train acc: 47.81% | Test loss: 1.37169, Test acc: 51.47%\n",
      "Epoch: 85 | Train loss: 1.43704, Train acc: 47.99% | Test loss: 1.36836, Test acc: 51.52%\n",
      "Epoch: 86 | Train loss: 1.43751, Train acc: 48.24% | Test loss: 1.36468, Test acc: 51.62%\n",
      "Epoch: 87 | Train loss: 1.42763, Train acc: 48.23% | Test loss: 1.36122, Test acc: 51.67%\n",
      "Epoch: 88 | Train loss: 1.43683, Train acc: 48.11% | Test loss: 1.36410, Test acc: 51.52%\n",
      "Epoch: 89 | Train loss: 1.43695, Train acc: 48.31% | Test loss: 1.36508, Test acc: 52.05%\n",
      "Epoch: 90 | Train loss: 1.43251, Train acc: 48.37% | Test loss: 1.36456, Test acc: 51.50%\n",
      "Epoch: 91 | Train loss: 1.42064, Train acc: 49.30% | Test loss: 1.36088, Test acc: 51.72%\n",
      "Epoch: 92 | Train loss: 1.41240, Train acc: 48.75% | Test loss: 1.35433, Test acc: 51.67%\n",
      "Epoch: 93 | Train loss: 1.42286, Train acc: 48.23% | Test loss: 1.35809, Test acc: 51.59%\n",
      "Epoch: 94 | Train loss: 1.41016, Train acc: 49.21% | Test loss: 1.35584, Test acc: 51.91%\n",
      "Epoch: 95 | Train loss: 1.40965, Train acc: 48.88% | Test loss: 1.34720, Test acc: 52.12%\n",
      "Epoch: 96 | Train loss: 1.41142, Train acc: 49.91% | Test loss: 1.34375, Test acc: 52.94%\n",
      "Epoch: 97 | Train loss: 1.39601, Train acc: 49.72% | Test loss: 1.34237, Test acc: 52.40%\n",
      "Epoch: 98 | Train loss: 1.40177, Train acc: 49.35% | Test loss: 1.34406, Test acc: 52.24%\n",
      "Epoch: 99 | Train loss: 1.39115, Train acc: 49.89% | Test loss: 1.34029, Test acc: 52.54%\n",
      "Epoch: 100 | Train loss: 1.39037, Train acc: 49.18% | Test loss: 1.34039, Test acc: 52.00%\n"
     ]
    }
   ],
   "execution_count": 21
  },
  {
   "metadata": {
    "ExecuteTime": {
     "end_time": "2025-10-27T11:22:46.883126Z",
     "start_time": "2025-10-27T11:22:46.338147Z"
    }
   },
   "cell_type": "code",
   "source": "plot_loss_curves(results_1)",
   "id": "c555787ed43e9b25",
   "outputs": [
    {
     "data": {
      "text/plain": [
       "<Figure size 1500x700 with 2 Axes>"
      ],
      "image/png": "[encoded data removed]"
     },
     "metadata": {},
     "output_type": "display_data",
     "jetTransient": {
      "display_id": null
     }
    }
   ],
   "execution_count": 22
  },
  {
   "metadata": {},
   "cell_type": "markdown",
   "source": "It is obvious that the overfitting issue is fixed. However, the model doesn't perform that well. This may be due to a variety of reasons. One is the fact that we used a simple MLP. Other model architectures are tested to perform better on such classification issues.",
   "id": "2a52b094ae6afa89"
  }
 ],
 "metadata": {
  "kernelspec": {
   "display_name": "Python 3 (ipykernel)",
   "language": "python",
   "name": "python3"
  },
  "language_info": {
   "codemirror_mode": {
    "name": "ipython",
    "version": 3
   },
   "file_extension": ".py",
   "mimetype": "text/x-python",
   "name": "python",
   "nbconvert_exporter": "python",
   "pygments_lexer": "ipython3",
   "version": "3.11.13"
  }
 },
 "nbformat": 4,
 "nbformat_minor": 5
}
